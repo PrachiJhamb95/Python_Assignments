{
 "cells": [
  {
   "cell_type": "code",
   "execution_count": null,
   "metadata": {},
   "outputs": [],
   "source": [
    "# Problem 3 is a choose your own adventure!\n",
    "# You can either:\n",
    "# - Find an existing API and show some (5+) example queries with the data stuffed into dataframes or visualized in plots (you should aim to impress Dr. Johnsen)\n",
    "# - Or, you can design your own API, maybe based on your own research dataset(s), and show some examples here.\n",
    "#   Your API should provide a way to fetch some data points (based on some id or filters), all data points, and a way to add data points"
   ]
  },
  {
   "cell_type": "code",
   "execution_count": 43,
   "metadata": {},
   "outputs": [],
   "source": [
    "import pandas as pd\n",
    "import matplotlib.pyplot as plt\n",
    "import wbgapi as wb\n",
    "pd.set_option('display.max_rows', 10)"
   ]
  },
  {
   "cell_type": "code",
   "execution_count": 64,
   "metadata": {},
   "outputs": [
    {
     "data": {
      "text/html": [
       "<div class=\"wbgapi\"><table>\n",
       "<thead>\n",
       "<tr><th>code  </th><th>name                                                 </th></tr>\n",
       "</thead>\n",
       "<tbody>\n",
       "<tr><td>AFE   </td><td>Africa Eastern and Southern                          </td></tr>\n",
       "<tr><td>AFR   </td><td>Africa                                               </td></tr>\n",
       "<tr><td>AFW   </td><td>Africa Western and Central                           </td></tr>\n",
       "<tr><td>ARB   </td><td>Arab World                                           </td></tr>\n",
       "<tr><td>CAA   </td><td>Sub-Saharan Africa (IFC classification)              </td></tr>\n",
       "<tr><td>CEA   </td><td>East Asia and the Pacific (IFC classification)       </td></tr>\n",
       "<tr><td>CEB   </td><td>Central Europe and the Baltics                       </td></tr>\n",
       "<tr><td>CEU   </td><td>Europe and Central Asia (IFC classification)         </td></tr>\n",
       "<tr><td>CLA   </td><td>Latin America and the Caribbean (IFC classification) </td></tr>\n",
       "<tr><td>CME   </td><td>Middle East and North Africa (IFC classification)    </td></tr>\n",
       "<tr><td>CSA   </td><td>South Asia (IFC classification)                      </td></tr>\n",
       "<tr><td>CSS   </td><td>Caribbean small states                               </td></tr>\n",
       "<tr><td>EAP   </td><td>East Asia &amp; Pacific (excluding high income)          </td></tr>\n",
       "<tr><td>EAR   </td><td>Early-demographic dividend                           </td></tr>\n",
       "<tr><td>EAS   </td><td>East Asia &amp; Pacific                                  </td></tr>\n",
       "<tr><td>ECA   </td><td>Europe &amp; Central Asia (excluding high income)        </td></tr>\n",
       "<tr><td>ECS   </td><td>Europe &amp; Central Asia                                </td></tr>\n",
       "<tr><td>EMU   </td><td>Euro area                                            </td></tr>\n",
       "<tr><td>EUU   </td><td>European Union                                       </td></tr>\n",
       "<tr><td>FCS   </td><td>Fragile and conflict affected situations             </td></tr>\n",
       "<tr><td>HPC   </td><td>Heavily indebted poor countries (HIPC)               </td></tr>\n",
       "<tr><td>LAC   </td><td>Latin America &amp; Caribbean (excluding high income)    </td></tr>\n",
       "<tr><td>LCN   </td><td>Latin America &amp; Caribbean                            </td></tr>\n",
       "<tr><td>LDC   </td><td>Least developed countries: UN classification         </td></tr>\n",
       "<tr><td>LTE   </td><td>Late-demographic dividend                            </td></tr>\n",
       "<tr><td>MDE   </td><td>Middle East (developing only)                        </td></tr>\n",
       "<tr><td>MEA   </td><td>Middle East &amp; North Africa                           </td></tr>\n",
       "<tr><td>MNA   </td><td>Middle East &amp; North Africa (excluding high income)   </td></tr>\n",
       "<tr><td>NAC   </td><td>North America                                        </td></tr>\n",
       "<tr><td>NAF   </td><td>North Africa                                         </td></tr>\n",
       "<tr><td>NRS   </td><td>Non-resource rich Sub-Saharan Africa countries       </td></tr>\n",
       "<tr><td>OED   </td><td>OECD members                                         </td></tr>\n",
       "<tr><td>OSS   </td><td>Other small states                                   </td></tr>\n",
       "<tr><td>PRE   </td><td>Pre-demographic dividend                             </td></tr>\n",
       "<tr><td>PSS   </td><td>Pacific island small states                          </td></tr>\n",
       "<tr><td>PST   </td><td>Post-demographic dividend                            </td></tr>\n",
       "<tr><td>RRS   </td><td>Resource rich Sub-Saharan Africa countries           </td></tr>\n",
       "<tr><td>SAS   </td><td>South Asia                                           </td></tr>\n",
       "<tr><td>SSA   </td><td>Sub-Saharan Africa (excluding high income)           </td></tr>\n",
       "<tr><td>SSF   </td><td>Sub-Saharan Africa                                   </td></tr>\n",
       "<tr><td>SST   </td><td>Small states                                         </td></tr>\n",
       "<tr><td>SXZ   </td><td>Sub-Saharan Africa excluding South Africa            </td></tr>\n",
       "<tr><td>WLD   </td><td>World                                                </td></tr>\n",
       "<tr><td>XZN   </td><td>Sub-Saharan Africa excluding South Africa and Nigeria</td></tr>\n",
       "<tr><td>      </td><td>44 elements                                          </td></tr>\n",
       "</tbody>\n",
       "</table></div>"
      ],
      "text/plain": [
       "code    name\n",
       "------  -----------------------------------------------------\n",
       "AFE     Africa Eastern and Southern\n",
       "AFR     Africa\n",
       "AFW     Africa Western and Central\n",
       "ARB     Arab World\n",
       "CAA     Sub-Saharan Africa (IFC classification)\n",
       "CEA     East Asia and the Pacific (IFC classification)\n",
       "CEB     Central Europe and the Baltics\n",
       "CEU     Europe and Central Asia (IFC classification)\n",
       "CLA     Latin America and the Caribbean (IFC classification)\n",
       "CME     Middle East and North Africa (IFC classification)\n",
       "CSA     South Asia (IFC classification)\n",
       "CSS     Caribbean small states\n",
       "EAP     East Asia & Pacific (excluding high income)\n",
       "EAR     Early-demographic dividend\n",
       "EAS     East Asia & Pacific\n",
       "ECA     Europe & Central Asia (excluding high income)\n",
       "ECS     Europe & Central Asia\n",
       "EMU     Euro area\n",
       "EUU     European Union\n",
       "FCS     Fragile and conflict affected situations\n",
       "HPC     Heavily indebted poor countries (HIPC)\n",
       "LAC     Latin America & Caribbean (excluding high income)\n",
       "LCN     Latin America & Caribbean\n",
       "LDC     Least developed countries: UN classification\n",
       "LTE     Late-demographic dividend\n",
       "MDE     Middle East (developing only)\n",
       "MEA     Middle East & North Africa\n",
       "MNA     Middle East & North Africa (excluding high income)\n",
       "NAC     North America\n",
       "NAF     North Africa\n",
       "NRS     Non-resource rich Sub-Saharan Africa countries\n",
       "OED     OECD members\n",
       "OSS     Other small states\n",
       "PRE     Pre-demographic dividend\n",
       "PSS     Pacific island small states\n",
       "PST     Post-demographic dividend\n",
       "RRS     Resource rich Sub-Saharan Africa countries\n",
       "SAS     South Asia\n",
       "SSA     Sub-Saharan Africa (excluding high income)\n",
       "SSF     Sub-Saharan Africa\n",
       "SST     Small states\n",
       "SXZ     Sub-Saharan Africa excluding South Africa\n",
       "WLD     World\n",
       "XZN     Sub-Saharan Africa excluding South Africa and Nigeria\n",
       "        44 elements"
      ]
     },
     "execution_count": 64,
     "metadata": {},
     "output_type": "execute_result"
    }
   ],
   "source": [
    "wb.region.info()"
   ]
  },
  {
   "cell_type": "code",
   "execution_count": 87,
   "metadata": {},
   "outputs": [
    {
     "data": {
      "text/html": [
       "<div class=\"wbgapi\"><table>\n",
       "<thead>\n",
       "<tr><th>id               </th><th>value                                                                                                                    </th></tr>\n",
       "</thead>\n",
       "<tbody>\n",
       "<tr><td>BX.GSR.CCIS.CD   </td><td>ICT service exports (BoP, current US$)                                                                                   </td></tr>\n",
       "<tr><td>BX.GSR.CCIS.ZS   </td><td>ICT service exports (% of service exports, BoP)                                                                          </td></tr>\n",
       "<tr><td>BX.GSR.GNFS.CD   </td><td>Exports of goods and services (BoP, current US$)                                                                         </td></tr>\n",
       "<tr><td>BX.GSR.MRCH.CD   </td><td>Goods exports (BoP, current US$)                                                                                         </td></tr>\n",
       "<tr><td>BX.GSR.NFSV.CD   </td><td>Service exports (BoP, current US$)                                                                                       </td></tr>\n",
       "<tr><td>BX.GSR.TOTL.CD   </td><td>Exports of goods, services and primary income (BoP, current US$)                                                         </td></tr>\n",
       "<tr><td>GC.TAX.EXPT.CN   </td><td>Taxes on exports (current LCU)                                                                                           </td></tr>\n",
       "<tr><td>GC.TAX.EXPT.ZS   </td><td>Taxes on exports (% of tax revenue)                                                                                      </td></tr>\n",
       "<tr><td>IC.CUS.DURS.EX   </td><td>Average time to clear exports through customs (days)                                                                     </td></tr>\n",
       "<tr><td>MS.MIL.XPRT.KD   </td><td>Arms exports (SIPRI trend indicator values)                                                                              </td></tr>\n",
       "<tr><td>NE.EXP.GNFS.CD   </td><td>Exports of goods and services (current US$)                                                                              </td></tr>\n",
       "<tr><td>NE.EXP.GNFS.CN   </td><td>Exports of goods and services (current LCU)                                                                              </td></tr>\n",
       "<tr><td>NE.EXP.GNFS.KD   </td><td>Exports of goods and services (constant 2015 US$)                                                                        </td></tr>\n",
       "<tr><td>NE.EXP.GNFS.KD.ZG</td><td>Exports of goods and services (annual % growth)                                                                          </td></tr>\n",
       "<tr><td>NE.EXP.GNFS.KN   </td><td>Exports of goods and services (constant LCU)                                                                             </td></tr>\n",
       "<tr><td>NE.EXP.GNFS.ZS   </td><td>Exports of goods and services (% of GDP)                                                                                 </td></tr>\n",
       "<tr><td>NY.EXP.CAPM.KN   </td><td>Exports as a capacity to import (constant LCU)                                                                           </td></tr>\n",
       "<tr><td>TX.MNF.TECH.ZS.UN</td><td>Medium and high-tech exports (% manufactured exports)                                                                    </td></tr>\n",
       "<tr><td>TX.VAL.AGRI.ZS.UN</td><td>Agricultural raw materials exports (% of merchandise exports)                                                            </td></tr>\n",
       "<tr><td>TX.VAL.FOOD.ZS.UN</td><td>Food exports (% of merchandise exports)                                                                                  </td></tr>\n",
       "<tr><td>TX.VAL.FUEL.ZS.UN</td><td>Fuel exports (% of merchandise exports)                                                                                  </td></tr>\n",
       "<tr><td>TX.VAL.ICTG.ZS.UN</td><td>ICT goods exports (% of total goods exports)                                                                             </td></tr>\n",
       "<tr><td>TX.VAL.MANF.ZS.UN</td><td>Manufactures exports (% of merchandise exports)                                                                          </td></tr>\n",
       "<tr><td>TX.VAL.MMTL.ZS.UN</td><td>Ores and metals exports (% of merchandise exports)                                                                       </td></tr>\n",
       "<tr><td>TX.VAL.MRCH.AL.ZS</td><td>Merchandise exports to economies in the Arab World (% of total merchandise exports)                                      </td></tr>\n",
       "<tr><td>TX.VAL.MRCH.CD.WT</td><td>Merchandise exports (current US$)                                                                                        </td></tr>\n",
       "<tr><td>TX.VAL.MRCH.HI.ZS</td><td>Merchandise exports to high-income economies (% of total merchandise exports)                                            </td></tr>\n",
       "<tr><td>TX.VAL.MRCH.OR.ZS</td><td>Merchandise exports to low- and middle-income economies outside region (% of total merchandise exports)                  </td></tr>\n",
       "<tr><td>TX.VAL.MRCH.R1.ZS</td><td>Merchandise exports to low- and middle-income economies in East Asia &amp; Pacific (% of total merchandise exports)          </td></tr>\n",
       "<tr><td>TX.VAL.MRCH.R2.ZS</td><td>Merchandise exports to low- and middle-income economies in Europe &amp; Central Asia (% of total merchandise exports)        </td></tr>\n",
       "<tr><td>TX.VAL.MRCH.R3.ZS</td><td>Merchandise exports to low- and middle-income economies in Latin America &amp; the Caribbean (% of total merchandise exports)</td></tr>\n",
       "<tr><td>TX.VAL.MRCH.R4.ZS</td><td>Merchandise exports to low- and middle-income economies in Middle East &amp; North Africa (% of total merchandise exports)   </td></tr>\n",
       "<tr><td>TX.VAL.MRCH.R5.ZS</td><td>Merchandise exports to low- and middle-income economies in South Asia (% of total merchandise exports)                   </td></tr>\n",
       "<tr><td>TX.VAL.MRCH.R6.ZS</td><td>Merchandise exports to low- and middle-income economies in Sub-Saharan Africa (% of total merchandise exports)           </td></tr>\n",
       "<tr><td>TX.VAL.MRCH.RS.ZS</td><td>Merchandise exports by the reporting economy, residual (% of total merchandise exports)                                  </td></tr>\n",
       "<tr><td>TX.VAL.MRCH.WL.CD</td><td>Merchandise exports by the reporting economy (current US$)                                                               </td></tr>\n",
       "<tr><td>TX.VAL.MRCH.WR.ZS</td><td>Merchandise exports to low- and middle-income economies within region (% of total merchandise exports)                   </td></tr>\n",
       "<tr><td>TX.VAL.SERV.CD.WT</td><td>Commercial service exports (current US$)                                                                                 </td></tr>\n",
       "<tr><td>TX.VAL.TECH.CD   </td><td>High-technology exports (current US$)                                                                                    </td></tr>\n",
       "<tr><td>TX.VAL.TECH.MF.ZS</td><td>High-technology exports (% of manufactured exports)                                                                      </td></tr>\n",
       "<tr><td>                 </td><td>40 elements                                                                                                              </td></tr>\n",
       "</tbody>\n",
       "</table></div>"
      ],
      "text/plain": [
       "id                 value\n",
       "-----------------  -------------------------------------------------------------------------------------------------------------------------\n",
       "BX.GSR.CCIS.CD     ICT service exports (BoP, current US$)\n",
       "BX.GSR.CCIS.ZS     ICT service exports (% of service exports, BoP)\n",
       "BX.GSR.GNFS.CD     Exports of goods and services (BoP, current US$)\n",
       "BX.GSR.MRCH.CD     Goods exports (BoP, current US$)\n",
       "BX.GSR.NFSV.CD     Service exports (BoP, current US$)\n",
       "BX.GSR.TOTL.CD     Exports of goods, services and primary income (BoP, current US$)\n",
       "GC.TAX.EXPT.CN     Taxes on exports (current LCU)\n",
       "GC.TAX.EXPT.ZS     Taxes on exports (% of tax revenue)\n",
       "IC.CUS.DURS.EX     Average time to clear exports through customs (days)\n",
       "MS.MIL.XPRT.KD     Arms exports (SIPRI trend indicator values)\n",
       "NE.EXP.GNFS.CD     Exports of goods and services (current US$)\n",
       "NE.EXP.GNFS.CN     Exports of goods and services (current LCU)\n",
       "NE.EXP.GNFS.KD     Exports of goods and services (constant 2015 US$)\n",
       "NE.EXP.GNFS.KD.ZG  Exports of goods and services (annual % growth)\n",
       "NE.EXP.GNFS.KN     Exports of goods and services (constant LCU)\n",
       "NE.EXP.GNFS.ZS     Exports of goods and services (% of GDP)\n",
       "NY.EXP.CAPM.KN     Exports as a capacity to import (constant LCU)\n",
       "TX.MNF.TECH.ZS.UN  Medium and high-tech exports (% manufactured exports)\n",
       "TX.VAL.AGRI.ZS.UN  Agricultural raw materials exports (% of merchandise exports)\n",
       "TX.VAL.FOOD.ZS.UN  Food exports (% of merchandise exports)\n",
       "TX.VAL.FUEL.ZS.UN  Fuel exports (% of merchandise exports)\n",
       "TX.VAL.ICTG.ZS.UN  ICT goods exports (% of total goods exports)\n",
       "TX.VAL.MANF.ZS.UN  Manufactures exports (% of merchandise exports)\n",
       "TX.VAL.MMTL.ZS.UN  Ores and metals exports (% of merchandise exports)\n",
       "TX.VAL.MRCH.AL.ZS  Merchandise exports to economies in the Arab World (% of total merchandise exports)\n",
       "TX.VAL.MRCH.CD.WT  Merchandise exports (current US$)\n",
       "TX.VAL.MRCH.HI.ZS  Merchandise exports to high-income economies (% of total merchandise exports)\n",
       "TX.VAL.MRCH.OR.ZS  Merchandise exports to low- and middle-income economies outside region (% of total merchandise exports)\n",
       "TX.VAL.MRCH.R1.ZS  Merchandise exports to low- and middle-income economies in East Asia & Pacific (% of total merchandise exports)\n",
       "TX.VAL.MRCH.R2.ZS  Merchandise exports to low- and middle-income economies in Europe & Central Asia (% of total merchandise exports)\n",
       "TX.VAL.MRCH.R3.ZS  Merchandise exports to low- and middle-income economies in Latin America & the Caribbean (% of total merchandise exports)\n",
       "TX.VAL.MRCH.R4.ZS  Merchandise exports to low- and middle-income economies in Middle East & North Africa (% of total merchandise exports)\n",
       "TX.VAL.MRCH.R5.ZS  Merchandise exports to low- and middle-income economies in South Asia (% of total merchandise exports)\n",
       "TX.VAL.MRCH.R6.ZS  Merchandise exports to low- and middle-income economies in Sub-Saharan Africa (% of total merchandise exports)\n",
       "TX.VAL.MRCH.RS.ZS  Merchandise exports by the reporting economy, residual (% of total merchandise exports)\n",
       "TX.VAL.MRCH.WL.CD  Merchandise exports by the reporting economy (current US$)\n",
       "TX.VAL.MRCH.WR.ZS  Merchandise exports to low- and middle-income economies within region (% of total merchandise exports)\n",
       "TX.VAL.SERV.CD.WT  Commercial service exports (current US$)\n",
       "TX.VAL.TECH.CD     High-technology exports (current US$)\n",
       "TX.VAL.TECH.MF.ZS  High-technology exports (% of manufactured exports)\n",
       "                   40 elements"
      ]
     },
     "execution_count": 87,
     "metadata": {},
     "output_type": "execute_result"
    }
   ],
   "source": [
    "#wb.economy.info()\n",
    "wb.series.info(q='exports')"
   ]
  },
  {
   "cell_type": "code",
   "execution_count": 92,
   "metadata": {},
   "outputs": [
    {
     "data": {
      "text/html": [
       "<div>\n",
       "<style scoped>\n",
       "    .dataframe tbody tr th:only-of-type {\n",
       "        vertical-align: middle;\n",
       "    }\n",
       "\n",
       "    .dataframe tbody tr th {\n",
       "        vertical-align: top;\n",
       "    }\n",
       "\n",
       "    .dataframe thead th {\n",
       "        text-align: right;\n",
       "    }\n",
       "</style>\n",
       "<table border=\"1\" class=\"dataframe\">\n",
       "  <thead>\n",
       "    <tr style=\"text-align: right;\">\n",
       "      <th></th>\n",
       "      <th>YR2010</th>\n",
       "      <th>YR2015</th>\n",
       "      <th>YR2020</th>\n",
       "    </tr>\n",
       "    <tr>\n",
       "      <th>economy</th>\n",
       "      <th></th>\n",
       "      <th></th>\n",
       "      <th></th>\n",
       "    </tr>\n",
       "  </thead>\n",
       "  <tbody>\n",
       "    <tr>\n",
       "      <th>BMU</th>\n",
       "      <td>50.794993</td>\n",
       "      <td>49.970839</td>\n",
       "      <td>49.869204</td>\n",
       "    </tr>\n",
       "    <tr>\n",
       "      <th>CAN</th>\n",
       "      <td>29.167382</td>\n",
       "      <td>31.849961</td>\n",
       "      <td>29.363448</td>\n",
       "    </tr>\n",
       "    <tr>\n",
       "      <th>USA</th>\n",
       "      <td>12.388210</td>\n",
       "      <td>12.438939</td>\n",
       "      <td>10.134143</td>\n",
       "    </tr>\n",
       "  </tbody>\n",
       "</table>\n",
       "</div>"
      ],
      "text/plain": [
       "            YR2010     YR2015     YR2020\n",
       "economy                                 \n",
       "BMU      50.794993  49.970839  49.869204\n",
       "CAN      29.167382  31.849961  29.363448\n",
       "USA      12.388210  12.438939  10.134143"
      ]
     },
     "execution_count": 92,
     "metadata": {},
     "output_type": "execute_result"
    }
   ],
   "source": [
    "#Data 1\n",
    "# Import data on exports as a percentage of GDP from 2010 TO 2020 for North America region\n",
    "exports_perc = wb.data.DataFrame('NE.EXP.GNFS.ZS', wb.region.members('NAC'),time=range(2010,2021,5))\n",
    "exports_perc\n"
   ]
  },
  {
   "cell_type": "code",
   "execution_count": 93,
   "metadata": {},
   "outputs": [
    {
     "data": {
      "text/plain": [
       "<AxesSubplot:xlabel='economy'>"
      ]
     },
     "execution_count": 93,
     "metadata": {},
     "output_type": "execute_result"
    },
    {
     "data": {
      "image/png": "[encoded data removed]",
      "text/plain": [
       "<Figure size 432x288 with 1 Axes>"
      ]
     },
     "metadata": {
      "needs_background": "light"
     },
     "output_type": "display_data"
    }
   ],
   "source": [
    "# Visualize data\n",
    "exports_perc.plot.bar()\n"
   ]
  },
  {
   "cell_type": "code",
   "execution_count": 94,
   "metadata": {},
   "outputs": [
    {
     "data": {
      "text/plain": [
       "<AxesSubplot:>"
      ]
     },
     "execution_count": 94,
     "metadata": {},
     "output_type": "execute_result"
    },
    {
     "data": {
      "image/png": "[encoded data removed]",
      "text/plain": [
       "<Figure size 1080x360 with 1 Axes>"
      ]
     },
     "metadata": {
      "needs_background": "light"
     },
     "output_type": "display_data"
    }
   ],
   "source": [
    "plot2 = exports_perc.sort_values(by=['YR2020'],ascending=False)[:5]\n",
    "ax = exports_perc.T.plot(color='lightgray', legend=False)\n",
    "exports_perc.T.plot(ax=ax, figsize=(15,5))\n"
   ]
  },
  {
   "cell_type": "code",
   "execution_count": 102,
   "metadata": {},
   "outputs": [
    {
     "data": {
      "text/plain": [
       "[<matplotlib.lines.Line2D at 0x7ff2a11a1430>]"
      ]
     },
     "execution_count": 102,
     "metadata": {},
     "output_type": "execute_result"
    },
    {
     "data": {
      "image/png": "[encoded data removed]",
      "text/plain": [
       "<Figure size 432x288 with 4 Axes>"
      ]
     },
     "metadata": {
      "needs_background": "light"
     },
     "output_type": "display_data"
    }
   ],
   "source": [
    "import matplotlib.pyplot as plt \n",
    "# Create 4 subplots by importimg 4 additional datasets\n",
    "\n",
    "#Food exports (% of merchandise exports) data in year 2020 for North America region\n",
    "#Fuel exports (% of merchandise exports) data in year 2020 for North America region\n",
    "#Agricultural raw materials exports (% of merchandise exports) data in year 2020 for North America region\n",
    "#ICT goods exports (% of total goods exports) data in year 2020 for North America region\n",
    "food_exports_perc = wb.data.DataFrame('TX.VAL.FOOD.ZS.UN', wb.region.members('NAC'),time=2020)\n",
    "fuel_exports_perc = wb.data.DataFrame('TX.VAL.FUEL.ZS.UN', wb.region.members('NAC'),time=2020)\n",
    "ag_exports_perc = wb.data.DataFrame('TX.VAL.AGRI.ZS.UN', wb.region.members('NAC'),time=2020)\n",
    "ict_exports_perc = wb.data.DataFrame('TX.VAL.ICTG.ZS.UN', wb.region.members('NAC'),time=2020)\n",
    "\n",
    "plt.figure()  # create a plot figure\n",
    "\n",
    "plt.subplot(2, 2, 1) # (rows, columns, panel number)\n",
    "plt.plot(food_exports_perc)\n",
    "\n",
    "plt.subplot(2, 2, 2)\n",
    "plt.plot(fuel_exports_perc)\n",
    "\n",
    "\n",
    "plt.subplot(2, 2, 3)\n",
    "plt.plot(ag_exports_perc)\n",
    "\n",
    "\n",
    "plt.subplot(2, 2, 4)\n",
    "plt.plot(ict_exports_perc)"
   ]
  }
 ],
 "metadata": {
  "interpreter": {
   "hash": "c1deaeeb94c78488b5de744407439b8f1daed101f3bf79d45911d3811c8111ec"
  },
  "kernelspec": {
   "display_name": "Python 3.9.7 ('base')",
   "language": "python",
   "name": "python3"
  },
  "language_info": {
   "codemirror_mode": {
    "name": "ipython",
    "version": 3
   },
   "file_extension": ".py",
   "mimetype": "text/x-python",
   "name": "python",
   "nbconvert_exporter": "python",
   "pygments_lexer": "ipython3",
   "version": "3.9.7"
  },
  "orig_nbformat": 4
 },
 "nbformat": 4,
 "nbformat_minor": 2
}
