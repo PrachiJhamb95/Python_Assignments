{
 "cells": [
  {
   "cell_type": "code",
   "execution_count": 2,
   "metadata": {},
   "outputs": [],
   "source": [
    "# For this assignment, we are going to use the Open-Meteo weather api (https://open-meteo.com/en/docs) to practice calling external APIs, and using the results\n",
    "import requests\n",
    "import pandas as pd"
   ]
  },
  {
   "cell_type": "code",
   "execution_count": 4,
   "metadata": {},
   "outputs": [
    {
     "data": {
      "text/plain": [
       "{'utc_offset_seconds': 0,\n",
       " 'daily_units': {'time': 'iso8601',\n",
       "  'temperature_2m_max': '°F',\n",
       "  'temperature_2m_min': '°F'},\n",
       " 'longitude': -83.375,\n",
       " 'daily': {'time': ['2022-04-21',\n",
       "   '2022-04-22',\n",
       "   '2022-04-23',\n",
       "   '2022-04-24',\n",
       "   '2022-04-25',\n",
       "   '2022-04-26',\n",
       "   '2022-04-27'],\n",
       "  'temperature_2m_max': [74.8, 79.5, 80.5, 80.3, 83.6, 79.6, 75],\n",
       "  'temperature_2m_min': [50.9, 54.2, 55.3, 54.9, 60.5, 63, 45.9]},\n",
       " 'generationtime_ms': 0.3579854965209961,\n",
       " 'elevation': 189.125,\n",
       " 'latitude': 33.875}"
      ]
     },
     "execution_count": 4,
     "metadata": {},
     "output_type": "execute_result"
    }
   ],
   "source": [
    "# Take a moment to read through the documentation and then fetch the daily forecast of min and max temperatures at: 33.938830, -83.375070, in Fahrenheit\n",
    "result = requests.get(\"https://api.open-meteo.com/v1/forecast?latitude=33.93&longitude=-83.38&daily=temperature_2m_max,temperature_2m_min&current_weather=false&temperature_unit=fahrenheit&timezone=UTC\")\n",
    "# Print the result of the request as a python dictionary\n",
    "df_dict = result.json()\n",
    "df_dict"
   ]
  },
  {
   "cell_type": "code",
   "execution_count": 5,
   "metadata": {},
   "outputs": [
    {
     "data": {
      "text/html": [
       "<div>\n",
       "<style scoped>\n",
       "    .dataframe tbody tr th:only-of-type {\n",
       "        vertical-align: middle;\n",
       "    }\n",
       "\n",
       "    .dataframe tbody tr th {\n",
       "        vertical-align: top;\n",
       "    }\n",
       "\n",
       "    .dataframe thead th {\n",
       "        text-align: right;\n",
       "    }\n",
       "</style>\n",
       "<table border=\"1\" class=\"dataframe\">\n",
       "  <thead>\n",
       "    <tr style=\"text-align: right;\">\n",
       "      <th></th>\n",
       "      <th>daily</th>\n",
       "      <th>generationtime_ms</th>\n",
       "      <th>longitude</th>\n",
       "      <th>utc_offset_seconds</th>\n",
       "      <th>latitude</th>\n",
       "      <th>elevation</th>\n",
       "      <th>daily_units</th>\n",
       "    </tr>\n",
       "  </thead>\n",
       "  <tbody>\n",
       "    <tr>\n",
       "      <th>time</th>\n",
       "      <td>[2022-04-21, 2022-04-22, 2022-04-23, 2022-04-2...</td>\n",
       "      <td>0.357985</td>\n",
       "      <td>-83.375</td>\n",
       "      <td>0</td>\n",
       "      <td>33.875</td>\n",
       "      <td>189.125</td>\n",
       "      <td>iso8601</td>\n",
       "    </tr>\n",
       "    <tr>\n",
       "      <th>temperature_2m_max</th>\n",
       "      <td>[74.8, 79.5, 80.5, 80.3, 83.6, 79.6, 75]</td>\n",
       "      <td>0.357985</td>\n",
       "      <td>-83.375</td>\n",
       "      <td>0</td>\n",
       "      <td>33.875</td>\n",
       "      <td>189.125</td>\n",
       "      <td>°F</td>\n",
       "    </tr>\n",
       "    <tr>\n",
       "      <th>temperature_2m_min</th>\n",
       "      <td>[50.9, 54.2, 55.3, 54.9, 60.5, 63, 45.9]</td>\n",
       "      <td>0.357985</td>\n",
       "      <td>-83.375</td>\n",
       "      <td>0</td>\n",
       "      <td>33.875</td>\n",
       "      <td>189.125</td>\n",
       "      <td>°F</td>\n",
       "    </tr>\n",
       "  </tbody>\n",
       "</table>\n",
       "</div>"
      ],
      "text/plain": [
       "                                                                daily  \\\n",
       "time                [2022-04-21, 2022-04-22, 2022-04-23, 2022-04-2...   \n",
       "temperature_2m_max           [74.8, 79.5, 80.5, 80.3, 83.6, 79.6, 75]   \n",
       "temperature_2m_min           [50.9, 54.2, 55.3, 54.9, 60.5, 63, 45.9]   \n",
       "\n",
       "                    generationtime_ms  longitude  utc_offset_seconds  \\\n",
       "time                         0.357985    -83.375                   0   \n",
       "temperature_2m_max           0.357985    -83.375                   0   \n",
       "temperature_2m_min           0.357985    -83.375                   0   \n",
       "\n",
       "                    latitude  elevation daily_units  \n",
       "time                  33.875    189.125     iso8601  \n",
       "temperature_2m_max    33.875    189.125          °F  \n",
       "temperature_2m_min    33.875    189.125          °F  "
      ]
     },
     "execution_count": 5,
     "metadata": {},
     "output_type": "execute_result"
    }
   ],
   "source": [
    "# Read the result into a dataframe and reflect on its usability \n",
    "df = pd.DataFrame.from_dict(result.json())\n",
    "df = df[[\"daily\",\"generationtime_ms\",\"longitude\",\"utc_offset_seconds\",\"latitude\",\"elevation\",\"daily_units\"]]\n",
    "df\n",
    "#Better looking output"
   ]
  },
  {
   "cell_type": "code",
   "execution_count": 14,
   "metadata": {},
   "outputs": [
    {
     "data": {
      "text/html": [
       "<div>\n",
       "<style scoped>\n",
       "    .dataframe tbody tr th:only-of-type {\n",
       "        vertical-align: middle;\n",
       "    }\n",
       "\n",
       "    .dataframe tbody tr th {\n",
       "        vertical-align: top;\n",
       "    }\n",
       "\n",
       "    .dataframe thead th {\n",
       "        text-align: right;\n",
       "    }\n",
       "</style>\n",
       "<table border=\"1\" class=\"dataframe\">\n",
       "  <thead>\n",
       "    <tr style=\"text-align: right;\">\n",
       "      <th></th>\n",
       "      <th>temperature_2m_min</th>\n",
       "      <th>temperature_2m_max</th>\n",
       "    </tr>\n",
       "    <tr>\n",
       "      <th>time</th>\n",
       "      <th></th>\n",
       "      <th></th>\n",
       "    </tr>\n",
       "  </thead>\n",
       "  <tbody>\n",
       "    <tr>\n",
       "      <th>2022-04-21</th>\n",
       "      <td>50.9</td>\n",
       "      <td>74.8</td>\n",
       "    </tr>\n",
       "    <tr>\n",
       "      <th>2022-04-22</th>\n",
       "      <td>54.2</td>\n",
       "      <td>79.5</td>\n",
       "    </tr>\n",
       "    <tr>\n",
       "      <th>2022-04-23</th>\n",
       "      <td>55.3</td>\n",
       "      <td>80.5</td>\n",
       "    </tr>\n",
       "    <tr>\n",
       "      <th>2022-04-24</th>\n",
       "      <td>54.9</td>\n",
       "      <td>80.3</td>\n",
       "    </tr>\n",
       "    <tr>\n",
       "      <th>2022-04-25</th>\n",
       "      <td>60.5</td>\n",
       "      <td>83.6</td>\n",
       "    </tr>\n",
       "    <tr>\n",
       "      <th>2022-04-26</th>\n",
       "      <td>63.0</td>\n",
       "      <td>79.6</td>\n",
       "    </tr>\n",
       "    <tr>\n",
       "      <th>2022-04-27</th>\n",
       "      <td>45.9</td>\n",
       "      <td>75.0</td>\n",
       "    </tr>\n",
       "  </tbody>\n",
       "</table>\n",
       "</div>"
      ],
      "text/plain": [
       "            temperature_2m_min  temperature_2m_max\n",
       "time                                              \n",
       "2022-04-21                50.9                74.8\n",
       "2022-04-22                54.2                79.5\n",
       "2022-04-23                55.3                80.5\n",
       "2022-04-24                54.9                80.3\n",
       "2022-04-25                60.5                83.6\n",
       "2022-04-26                63.0                79.6\n",
       "2022-04-27                45.9                75.0"
      ]
     },
     "execution_count": 14,
     "metadata": {},
     "output_type": "execute_result"
    }
   ],
   "source": [
    "# Make a new dataframe reusing the data from before (don't make another request), keep only the daily field, and set the index to be time\n",
    "df_new = pd.DataFrame(df_dict[\"daily\"])\n",
    "df_new.set_index(\"time\")"
   ]
  },
  {
   "cell_type": "code",
   "execution_count": 6,
   "metadata": {},
   "outputs": [
    {
     "name": "stdout",
     "output_type": "stream",
     "text": [
      "{'generationtime_ms': 0.13494491577148438, 'elevation': 239.625, 'utc_offset_seconds': 0, 'longitude': -85.25, 'latitude': 34.25, 'current_weather': {'winddirection': 176, 'temperature': 76.2, 'time': '2022-04-21T22:00', 'windspeed': 8.4, 'weathercode': 2}}\n",
      "{'generationtime_ms': 0.11396408081054688, 'elevation': 212.125, 'utc_offset_seconds': 0, 'longitude': -83.375, 'latitude': 34, 'current_weather': {'temperature': 73.6, 'winddirection': 148, 'time': '2022-04-21T22:00', 'windspeed': 6.1, 'weathercode': 2}}\n",
      "{'generationtime_ms': 0.12195110321044922, 'elevation': 288.25, 'utc_offset_seconds': 0, 'longitude': -84.375, 'latitude': 33.75, 'current_weather': {'winddirection': 149, 'temperature': 74, 'time': '2022-04-21T22:00', 'windspeed': 8.2, 'weathercode': 2}}\n"
     ]
    }
   ],
   "source": [
    "# Let's practice again- this time fetch only the current weather in fahrenheit from 3 locations (34.289951,-85.191330), (33.938830, -83.375070), (33.736600, -84.373640)\n",
    "result_1 = requests.get(\"https://api.open-meteo.com/v1/forecast?latitude=34.29&longitude=-85.1913&current_weather=true&temperature_unit=fahrenheit\")\n",
    "df_dict_1 = result_1.json()\n",
    "\n",
    "result_2 = requests.get(\"https://api.open-meteo.com/v1/forecast?latitude=33.938830&longitude=-83.375070&current_weather=true&temperature_unit=fahrenheit\")\n",
    "df_dict_2 = result_2.json()\n",
    "\n",
    "result_3 = requests.get(\"https://api.open-meteo.com/v1/forecast?latitude=33.736600&longitude=-84.373640&current_weather=true&temperature_unit=fahrenheit\")\n",
    "df_dict_3 = result_3.json()\n",
    "# Save and print the result of the requests as python dictionaries\n",
    "print(df_dict_1)\n",
    "print(df_dict_2)\n",
    "print(df_dict_3)\n"
   ]
  },
  {
   "cell_type": "code",
   "execution_count": 7,
   "metadata": {},
   "outputs": [
    {
     "data": {
      "text/html": [
       "<div>\n",
       "<style scoped>\n",
       "    .dataframe tbody tr th:only-of-type {\n",
       "        vertical-align: middle;\n",
       "    }\n",
       "\n",
       "    .dataframe tbody tr th {\n",
       "        vertical-align: top;\n",
       "    }\n",
       "\n",
       "    .dataframe thead th {\n",
       "        text-align: right;\n",
       "    }\n",
       "</style>\n",
       "<table border=\"1\" class=\"dataframe\">\n",
       "  <thead>\n",
       "    <tr style=\"text-align: right;\">\n",
       "      <th></th>\n",
       "      <th>temperature</th>\n",
       "      <th>weathercode</th>\n",
       "      <th>windspeed</th>\n",
       "      <th>winddirection</th>\n",
       "      <th>time</th>\n",
       "    </tr>\n",
       "  </thead>\n",
       "  <tbody>\n",
       "    <tr>\n",
       "      <th>0</th>\n",
       "      <td>76.2</td>\n",
       "      <td>2</td>\n",
       "      <td>8.4</td>\n",
       "      <td>176</td>\n",
       "      <td>2022-04-21T22:00</td>\n",
       "    </tr>\n",
       "    <tr>\n",
       "      <th>0</th>\n",
       "      <td>73.6</td>\n",
       "      <td>2</td>\n",
       "      <td>6.1</td>\n",
       "      <td>148</td>\n",
       "      <td>2022-04-21T22:00</td>\n",
       "    </tr>\n",
       "    <tr>\n",
       "      <th>0</th>\n",
       "      <td>74</td>\n",
       "      <td>2</td>\n",
       "      <td>8.2</td>\n",
       "      <td>149</td>\n",
       "      <td>2022-04-21T22:00</td>\n",
       "    </tr>\n",
       "  </tbody>\n",
       "</table>\n",
       "</div>"
      ],
      "text/plain": [
       "  temperature weathercode windspeed winddirection              time\n",
       "0        76.2           2       8.4           176  2022-04-21T22:00\n",
       "0        73.6           2       6.1           148  2022-04-21T22:00\n",
       "0          74           2       8.2           149  2022-04-21T22:00"
      ]
     },
     "execution_count": 7,
     "metadata": {},
     "output_type": "execute_result"
    }
   ],
   "source": [
    "# Using the data from before (again, without making more requests), concat the 3 current_weather entries into one DataFrame\n",
    "df_a = pd.DataFrame.from_dict(df_dict_1)\n",
    "df_a1 = pd.DataFrame(df_a[\"current_weather\"])\n",
    "df_a1.rename(columns={\"current_weather\":\"0\"},inplace=True)\n",
    "\n",
    "df_b = pd.DataFrame.from_dict(df_dict_2)\n",
    "df_b1 = pd.DataFrame(df_b[\"current_weather\"])\n",
    "df_b1.rename(columns={\"current_weather\":\"0\"},inplace=True)\n",
    "\n",
    "df_c = pd.DataFrame.from_dict(df_dict_3)\n",
    "df_c1 = pd.DataFrame(df_c[\"current_weather\"])\n",
    "df_c1.rename(columns={\"current_weather\":\"0\"},inplace=True)\n",
    "\n",
    "concat = pd.concat([df_a1.T,df_b1.T,df_c1.T])\n",
    "concat = concat[[\"temperature\",\"weathercode\",\"windspeed\",\"winddirection\",\"time\"]]\n",
    "concat\n",
    "\n"
   ]
  }
 ],
 "metadata": {
  "interpreter": {
   "hash": "901189f45565fabe1942a4ca7d9725c2729195cec24af910b4786e87735fe585"
  },
  "kernelspec": {
   "display_name": "Python 3.10.4 ('web-api')",
   "language": "python",
   "name": "python3"
  },
  "language_info": {
   "codemirror_mode": {
    "name": "ipython",
    "version": 3
   },
   "file_extension": ".py",
   "mimetype": "text/x-python",
   "name": "python",
   "nbconvert_exporter": "python",
   "pygments_lexer": "ipython3",
   "version": "3.9.7"
  },
  "orig_nbformat": 4
 },
 "nbformat": 4,
 "nbformat_minor": 2
}
